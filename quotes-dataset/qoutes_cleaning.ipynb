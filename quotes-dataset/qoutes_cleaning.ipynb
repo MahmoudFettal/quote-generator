{
 "cells": [
  {
   "cell_type": "code",
   "execution_count": 4,
   "metadata": {},
   "outputs": [],
   "source": [
    "import pandas as pd\n",
    "import json"
   ]
  },
  {
   "cell_type": "code",
   "execution_count": 5,
   "metadata": {},
   "outputs": [
    {
     "name": "stdout",
     "output_type": "stream",
     "text": [
      "<class 'pandas.core.frame.DataFrame'>\n",
      "RangeIndex: 48391 entries, 0 to 48390\n",
      "Data columns (total 5 columns):\n",
      " #   Column      Non-Null Count  Dtype  \n",
      "---  ------      --------------  -----  \n",
      " 0   Quote       48391 non-null  object \n",
      " 1   Author      48391 non-null  object \n",
      " 2   Tags        48391 non-null  object \n",
      " 3   Popularity  48391 non-null  float64\n",
      " 4   Category    48391 non-null  object \n",
      "dtypes: float64(1), object(4)\n",
      "memory usage: 1.8+ MB\n"
     ]
    }
   ],
   "source": [
    "quotes_df = pd.DataFrame(json.load(open('quotes.json', encoding=\"utf8\")))\n",
    "quotes_df.info()"
   ]
  },
  {
   "cell_type": "code",
   "execution_count": 6,
   "metadata": {},
   "outputs": [
    {
     "data": {
      "text/html": [
       "<div>\n",
       "<style scoped>\n",
       "    .dataframe tbody tr th:only-of-type {\n",
       "        vertical-align: middle;\n",
       "    }\n",
       "\n",
       "    .dataframe tbody tr th {\n",
       "        vertical-align: top;\n",
       "    }\n",
       "\n",
       "    .dataframe thead th {\n",
       "        text-align: right;\n",
       "    }\n",
       "</style>\n",
       "<table border=\"1\" class=\"dataframe\">\n",
       "  <thead>\n",
       "    <tr style=\"text-align: right;\">\n",
       "      <th></th>\n",
       "      <th>Quote</th>\n",
       "      <th>Author</th>\n",
       "    </tr>\n",
       "  </thead>\n",
       "  <tbody>\n",
       "    <tr>\n",
       "      <th>0</th>\n",
       "      <td>Don't cry because it's over, smile because it ...</td>\n",
       "      <td>Dr. Seuss</td>\n",
       "    </tr>\n",
       "    <tr>\n",
       "      <th>1</th>\n",
       "      <td>Be yourself; everyone else is already taken</td>\n",
       "      <td>Oscar Wilde</td>\n",
       "    </tr>\n",
       "    <tr>\n",
       "      <th>2</th>\n",
       "      <td>Two things are infinite: the universe and huma...</td>\n",
       "      <td>Albert Einstein</td>\n",
       "    </tr>\n",
       "    <tr>\n",
       "      <th>3</th>\n",
       "      <td>A room without books is like a body without a ...</td>\n",
       "      <td>Marcus Tullius Cicero</td>\n",
       "    </tr>\n",
       "    <tr>\n",
       "      <th>4</th>\n",
       "      <td>So many books, so little time</td>\n",
       "      <td>Frank Zappa</td>\n",
       "    </tr>\n",
       "    <tr>\n",
       "      <th>5</th>\n",
       "      <td>You only live once, but if you do it right, on...</td>\n",
       "      <td>Mae West</td>\n",
       "    </tr>\n",
       "    <tr>\n",
       "      <th>6</th>\n",
       "      <td>Be the change that you wish to see in the world</td>\n",
       "      <td>Mahatma Gandhi</td>\n",
       "    </tr>\n",
       "    <tr>\n",
       "      <th>7</th>\n",
       "      <td>In three words I can sum up everything I've le...</td>\n",
       "      <td>Robert Frost</td>\n",
       "    </tr>\n",
       "    <tr>\n",
       "      <th>8</th>\n",
       "      <td>If you tell the truth, you don't have to remem...</td>\n",
       "      <td>Mark Twain</td>\n",
       "    </tr>\n",
       "    <tr>\n",
       "      <th>9</th>\n",
       "      <td>A friend is someone who knows all about you an...</td>\n",
       "      <td>Elbert Hubbard</td>\n",
       "    </tr>\n",
       "  </tbody>\n",
       "</table>\n",
       "</div>"
      ],
      "text/plain": [
       "                                               Quote                 Author\n",
       "0  Don't cry because it's over, smile because it ...              Dr. Seuss\n",
       "1        Be yourself; everyone else is already taken            Oscar Wilde\n",
       "2  Two things are infinite: the universe and huma...        Albert Einstein\n",
       "3  A room without books is like a body without a ...  Marcus Tullius Cicero\n",
       "4                      So many books, so little time            Frank Zappa\n",
       "5  You only live once, but if you do it right, on...               Mae West\n",
       "6    Be the change that you wish to see in the world         Mahatma Gandhi\n",
       "7  In three words I can sum up everything I've le...           Robert Frost\n",
       "8  If you tell the truth, you don't have to remem...             Mark Twain\n",
       "9  A friend is someone who knows all about you an...         Elbert Hubbard"
      ]
     },
     "execution_count": 6,
     "metadata": {},
     "output_type": "execute_result"
    }
   ],
   "source": [
    "quotes_df.drop(['Tags', 'Popularity', 'Category'], axis=1, inplace=True)\n",
    "\n",
    "quotes_df = quotes_df[quotes_df['Quote'].apply(lambda x: len(x) < 100)]\n",
    "quotes_df['Quote'] = quotes_df['Quote'].apply(lambda x: x[:-1] if x[-1] == '.' else x)\n",
    "quotes_df = quotes_df[quotes_df['Author'].apply(lambda x: len(x.split(', ')) == 1)]\n",
    "quotes_df = quotes_df.drop_duplicates()\n",
    "\n",
    "quotes_df.reset_index(inplace=True, drop = True)\n",
    "quotes_df.head(10)"
   ]
  },
  {
   "cell_type": "code",
   "execution_count": 7,
   "metadata": {},
   "outputs": [
    {
     "data": {
      "text/plain": [
       "9511"
      ]
     },
     "execution_count": 7,
     "metadata": {},
     "output_type": "execute_result"
    }
   ],
   "source": [
    "len(quotes_df)"
   ]
  },
  {
   "cell_type": "code",
   "execution_count": 8,
   "metadata": {},
   "outputs": [],
   "source": [
    "quotes_df.to_csv('quotes.csv')"
   ]
  }
 ],
 "metadata": {
  "interpreter": {
   "hash": "a2d6101b54ef48b9eee3411865f813dc8a04aa1f1de8222d35159b4321ac3d2f"
  },
  "kernelspec": {
   "display_name": "Python 3.8.6 64-bit",
   "language": "python",
   "name": "python3"
  },
  "language_info": {
   "codemirror_mode": {
    "name": "ipython",
    "version": 3
   },
   "file_extension": ".py",
   "mimetype": "text/x-python",
   "name": "python",
   "nbconvert_exporter": "python",
   "pygments_lexer": "ipython3",
   "version": "3.8.6"
  },
  "orig_nbformat": 4
 },
 "nbformat": 4,
 "nbformat_minor": 2
}
